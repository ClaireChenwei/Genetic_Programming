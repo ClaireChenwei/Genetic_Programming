{
 "cells": [
  {
   "cell_type": "code",
   "execution_count": null,
   "id": "5660cb74",
   "metadata": {},
   "outputs": [],
   "source": [
    "# import state data\n",
    "from google.colab import files\n",
    "uploaded = files.upload()\n",
    "statedata=pd.read_csv('States.csv',parse_dates=['Date'])\n",
    "statedata=statedata.set_index('Date').resample('B').ffill()\n",
    "statedata=statedata['new_state']\n",
    "data=pd.merge(data,statedata,on='Date')\n",
    "data.dropna(axis=0,how='any',inplace=True)\n",
    "data"
   ]
  },
  {
   "cell_type": "code",
   "execution_count": null,
   "id": "652845f8",
   "metadata": {},
   "outputs": [],
   "source": [
    "# group by state\n",
    "#bull = [1], bear = [-1], static = [0]\n",
    "grouped=data.groupby('new_state')\n",
    "bull=grouped.get_group(1)\n",
    "static=grouped.get_group(0)\n",
    "bear=grouped.get_group(-1)"
   ]
  }
 ],
 "metadata": {
  "kernelspec": {
   "display_name": "Python 3 (ipykernel)",
   "language": "python",
   "name": "python3"
  },
  "language_info": {
   "codemirror_mode": {
    "name": "ipython",
    "version": 3
   },
   "file_extension": ".py",
   "mimetype": "text/x-python",
   "name": "python",
   "nbconvert_exporter": "python",
   "pygments_lexer": "ipython3",
   "version": "3.9.7"
  }
 },
 "nbformat": 4,
 "nbformat_minor": 5
}
