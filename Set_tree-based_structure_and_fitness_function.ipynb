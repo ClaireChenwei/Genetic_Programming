{
 "cells": [
  {
   "cell_type": "code",
   "execution_count": null,
   "id": "9e7cd062",
   "metadata": {},
   "outputs": [],
   "source": [
    "pset = gp.PrimitiveSetTyped('main', [bool,bool,bool,bool,bool,bool,bool,bool,bool,bool,\n",
    "                    bool,bool,bool,bool,bool,bool,bool,bool,bool,bool,                 \n",
    "                    bool,bool,bool,bool,bool,bool,bool,bool], float)\n",
    "pset.addPrimitive(operator.or_, [bool, bool], bool)\n",
    "pset.addPrimitive(operator.and_, [bool, bool], bool)\n",
    "pset.addPrimitive(operator.xor, [bool, bool], bool)\n",
    "pset.addPrimitive(operator.not_, [bool], bool)\n",
    "\n",
    "def if_then_else(input1, input2):\n",
    "    if input1 and input2:\n",
    "        return 1.0\n",
    "    if not input1 and not input2:\n",
    "        return -1.0\n",
    "    return 0.0\n",
    "pset.addPrimitive(if_then_else, [bool, bool], float)"
   ]
  },
  {
   "cell_type": "code",
   "execution_count": null,
   "id": "c708e829",
   "metadata": {},
   "outputs": [],
   "source": [
    "creator.create('FitnessMax',base.Fitness,weights=(1.0,))\n",
    "creator.create(\"Individual\", gp.PrimitiveTree, fitness=creator.FitnessMax)\n",
    "toolbox = base.Toolbox()\n",
    "toolbox.register(\"expr\", gp.genHalfAndHalf, pset=pset, min_=3, max_=5)\n",
    "toolbox.register(\"individual\", tools.initIterate, creator.Individual, toolbox.expr)\n",
    "toolbox.register('population',tools.initRepeat,list,toolbox.individual)\n",
    "toolbox.register('compile',gp.compile, pset=pset)"
   ]
  }
 ],
 "metadata": {
  "kernelspec": {
   "display_name": "Python 3 (ipykernel)",
   "language": "python",
   "name": "python3"
  },
  "language_info": {
   "codemirror_mode": {
    "name": "ipython",
    "version": 3
   },
   "file_extension": ".py",
   "mimetype": "text/x-python",
   "name": "python",
   "nbconvert_exporter": "python",
   "pygments_lexer": "ipython3",
   "version": "3.9.7"
  }
 },
 "nbformat": 4,
 "nbformat_minor": 5
}
